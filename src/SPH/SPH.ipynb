{
 "cells": [
  {
   "cell_type": "code",
   "execution_count": 2,
   "metadata": {
    "collapsed": true,
    "pycharm": {
     "name": "#%%\n"
    }
   },
   "outputs": [],
   "source": [
    "import numpy as np\n",
    "import matplotlib.pyplot as plt\n",
    "from scipy.integrate import RK45\n",
    "from scipy.integrate import RK23"
   ]
  },
  {
   "cell_type": "markdown",
   "source": [
    "# initial conditions"
   ],
   "metadata": {
    "collapsed": false,
    "pycharm": {
     "name": "#%% md\n"
    }
   }
  },
  {
   "cell_type": "code",
   "execution_count": 3,
   "outputs": [],
   "source": [
    "# Water hammer\n",
    "L=20         # 管线长度\n",
    "Hr=100          # 泵压力\n",
    "D=797/1000\n",
    "Rho=1000\t    # 液体密度kg/m^3\n",
    "g=9.81        # 重力加速度\n",
    "f=0.02\n",
    "#f=0.018        # 摩擦系数\n",
    "A=np.pi*D*D/4     # 管道横截面积\n",
    "#a=np.sqrt(K/Rho/(1+K*D/E*e)) # 波速\n",
    "a=1025.7"
   ],
   "metadata": {
    "collapsed": false,
    "pycharm": {
     "name": "#%%\n"
    }
   }
  },
  {
   "cell_type": "code",
   "execution_count": 4,
   "outputs": [],
   "source": [
    "# Parameters\n",
    "N = 400 # Number of particles\n",
    "mass_value = A*L/N # Mass of the particles\n",
    "kappa = 2 # Used in the NNPS algorithm\n",
    "nu = 1.4 # Scaling factor for the smoothing factor 光滑长度比例"
   ],
   "metadata": {
    "collapsed": false,
    "pycharm": {
     "name": "#%%\n"
    }
   }
  },
  {
   "cell_type": "code",
   "execution_count": 25,
   "outputs": [
    {
     "data": {
      "text/plain": "(1200,)"
     },
     "execution_count": 25,
     "metadata": {},
     "output_type": "execute_result"
    }
   ],
   "source": [
    "mass = np.zeros(3*N) + mass_value\n",
    "mass.shape"
   ],
   "metadata": {
    "collapsed": false,
    "pycharm": {
     "name": "#%%\n"
    }
   }
  },
  {
   "cell_type": "code",
   "execution_count": 6,
   "outputs": [],
   "source": [
    "# Give the particles evenly spaced positions before and after the wall\n",
    "x = np.zeros(N)\n",
    "x[:] = np.linspace(0,L,N,endpoint=False)"
   ],
   "metadata": {
    "collapsed": false,
    "pycharm": {
     "name": "#%%\n"
    }
   }
  },
  {
   "cell_type": "code",
   "execution_count": 7,
   "outputs": [],
   "source": [
    "# Initial density for the particles\n",
    "rho = np.zeros(N)+Rho"
   ],
   "metadata": {
    "collapsed": false,
    "pycharm": {
     "name": "#%%\n"
    }
   }
  },
  {
   "cell_type": "code",
   "execution_count": 8,
   "outputs": [],
   "source": [
    "# Initial velocities are the same, set at 0\n",
    "v0=0.1\n",
    "v = np.zeros(N)+v0"
   ],
   "metadata": {
    "collapsed": false,
    "pycharm": {
     "name": "#%%\n"
    }
   }
  },
  {
   "cell_type": "code",
   "execution_count": 9,
   "outputs": [],
   "source": [
    "# Initial pressures-\n",
    "p = np.zeros(N)\n",
    "p=Hr-x*f*v0*v0/(L*2*D)"
   ],
   "metadata": {
    "collapsed": false,
    "pycharm": {
     "name": "#%%\n"
    }
   }
  },
  {
   "cell_type": "code",
   "execution_count": 10,
   "outputs": [
    {
     "data": {
      "text/plain": "(400,)"
     },
     "execution_count": 10,
     "metadata": {},
     "output_type": "execute_result"
    }
   ],
   "source": [
    "Sf=f*v*np.abs(v)/(2*D)\n",
    "Sf.shape"
   ],
   "metadata": {
    "collapsed": false,
    "pycharm": {
     "name": "#%%\n"
    }
   }
  },
  {
   "cell_type": "code",
   "execution_count": 11,
   "outputs": [
    {
     "data": {
      "text/plain": "array([[0.00000000e+00, 1.00000000e+03, 1.00000000e-01, 1.00000000e+02,\n        1.25470514e-04],\n       [5.00000000e-02, 1.00000000e+03, 1.00000000e-01, 9.99999997e+01,\n        1.25470514e-04],\n       [1.00000000e-01, 1.00000000e+03, 1.00000000e-01, 9.99999994e+01,\n        1.25470514e-04],\n       ...,\n       [1.98500000e+01, 1.00000000e+03, 1.00000000e-01, 9.99998755e+01,\n        1.25470514e-04],\n       [1.99000000e+01, 1.00000000e+03, 1.00000000e-01, 9.99998752e+01,\n        1.25470514e-04],\n       [1.99500000e+01, 1.00000000e+03, 1.00000000e-01, 9.99998748e+01,\n        1.25470514e-04]])"
     },
     "execution_count": 11,
     "metadata": {},
     "output_type": "execute_result"
    }
   ],
   "source": [
    "# Create the initial state vector as a matrix\n",
    "W0 = np.zeros((N, 5)) # Change to W0.\n",
    "W0[:,0] = x\n",
    "W0[:,1] = rho\n",
    "W0[:,2] = v\n",
    "W0[:,3] = p\n",
    "W0[:,4] = Sf\n",
    "NParams = len(W0[1])\n",
    "W0"
   ],
   "metadata": {
    "collapsed": false,
    "pycharm": {
     "name": "#%%\n"
    }
   }
  },
  {
   "cell_type": "code",
   "execution_count": 12,
   "outputs": [],
   "source": [
    "def reservoir(W):\n",
    "    # 传入Wleft\n",
    "    N=W.shape[0]\n",
    "    Wleft=np.zeros_like(W)\n",
    "    Wleft[:,0] = W[:,0]\n",
    "    Wleft[:,1] = W[:,1]\n",
    "    Wleft[:,2] = W[N-1,2] # 等于第一颗粒子的速度\n",
    "    Wleft[:,3] = Hr # 压力恒定\n",
    "    Wleft[:,4] = W[:,4]\n",
    "    return Wleft"
   ],
   "metadata": {
    "collapsed": false,
    "pycharm": {
     "name": "#%%\n"
    }
   }
  },
  {
   "cell_type": "code",
   "execution_count": 46,
   "outputs": [],
   "source": [
    "def valve(W0,W1):\n",
    "    # 传入W0=Wmiddle，W1=Wright\n",
    "    N=W0.shape[0]\n",
    "    Wright=np.zeros_like(W0)\n",
    "    Wright[:,0] = W1[:,0]\n",
    "    Wright[:,1] = W1[:,1]\n",
    "    # for i in range(N): #mirror\n",
    "    #     Wright[i,2] = -W0[N-i-1,2]\n",
    "    #     Wright[i,3] = W0[N-i-1,3]\n",
    "    Wright[:,2] = 0\n",
    "    Wright[:,3] = W1[:,3]\n",
    "    Wright[:,4] = W1[:,4]\n",
    "    return Wright"
   ],
   "metadata": {
    "collapsed": false,
    "pycharm": {
     "name": "#%%\n"
    }
   }
  },
  {
   "cell_type": "code",
   "execution_count": 14,
   "outputs": [],
   "source": [
    "Wleft = W0.copy() # Change to W0.\n",
    "Wleft[:,0] = x-L\n",
    "Wright = W0.copy() # Change to W0.\n",
    "Wright[:,0] = x+L"
   ],
   "metadata": {
    "collapsed": false,
    "pycharm": {
     "name": "#%%\n"
    }
   }
  },
  {
   "cell_type": "code",
   "execution_count": 15,
   "outputs": [
    {
     "data": {
      "text/plain": "array([[-2.00000000e+01,  1.00000000e+03,  1.00000000e-01,\n         1.00000000e+02,  1.25470514e-04],\n       [-1.99500000e+01,  1.00000000e+03,  1.00000000e-01,\n         9.99999997e+01,  1.25470514e-04],\n       [-1.99000000e+01,  1.00000000e+03,  1.00000000e-01,\n         9.99999994e+01,  1.25470514e-04],\n       ...,\n       [ 3.98500000e+01,  1.00000000e+03,  1.00000000e-01,\n         9.99998755e+01,  1.25470514e-04],\n       [ 3.99000000e+01,  1.00000000e+03,  1.00000000e-01,\n         9.99998752e+01,  1.25470514e-04],\n       [ 3.99500000e+01,  1.00000000e+03,  1.00000000e-01,\n         9.99998748e+01,  1.25470514e-04]])"
     },
     "execution_count": 15,
     "metadata": {},
     "output_type": "execute_result"
    }
   ],
   "source": [
    "# Reshape matrix into a vector\n",
    "W = np.row_stack([Wleft,W0,Wright])\n",
    "W"
   ],
   "metadata": {
    "collapsed": false,
    "pycharm": {
     "name": "#%%\n"
    }
   }
  },
  {
   "cell_type": "markdown",
   "source": [
    "# SPH function"
   ],
   "metadata": {
    "collapsed": false,
    "pycharm": {
     "name": "#%% md\n"
    }
   }
  },
  {
   "cell_type": "code",
   "execution_count": 26,
   "outputs": [],
   "source": [
    "def h_len(mass, density):\n",
    "    \"\"\" Calculates the smoothing length for all the particles for a given\n",
    "    state vector. \"\"\"\n",
    "    return np.zeros(3*N) + nu*(mass/density)\n",
    "\n",
    "def smoothingW(dx, h):\n",
    "    \"\"\" Utilizes the relative distances of a pair to calculate the\n",
    "    smoothing function. The input relative distanc has already been calculated\n",
    "    with the smoothing factor h.\"\"\"\n",
    "\n",
    "    ad = (1/h) # Alpha-d factor\n",
    "    R = np.linalg.norm(dx)/h\n",
    "\n",
    "    if R >= 0 and R < 1:\n",
    "        smoothW = ad*(2/3 - R**2 + 0.5*R**3)\n",
    "\n",
    "    elif R >=1 and R < 2:\n",
    "        smoothW = ad*(((2-R)**3)/6)\n",
    "\n",
    "    else:\n",
    "        smoothW = 0.0\n",
    "\n",
    "    return smoothW\n",
    "\n",
    "def smoothingdW(dx, h):\n",
    "    \"\"\" Utilizes the relative distances of a pair to calculate the\n",
    "    derivative of the smoothing function. The input relative distanc has\n",
    "    already been calculated with the smoothing factor h.\"\"\"\n",
    "\n",
    "    ad = (1/h) # Alpha-d factor\n",
    "    R = np.linalg.norm(dx)/h\n",
    "\n",
    "    if R >= 0 and R < 1:\n",
    "        smoothdW = ad*(-2 + (3/2)*R)*(dx/h**2)\n",
    "\n",
    "    elif R >=1 and R < 2:\n",
    "        smoothdW = -ad*(0.5*((2-R)**2))*(dx/(h*abs(dx)))\n",
    "\n",
    "    else:\n",
    "        smoothdW = 0.0\n",
    "\n",
    "    return smoothdW\n",
    "\n",
    "def artificialv(x1, x2, rho1, rho2, v1, v2, p1, p2, h1, h2):\n",
    "    \"\"\" Calculates the artificial viscosity for a pair. \"\"\"\n",
    "\n",
    "    # Define parameters that go into the artificial viscosity\n",
    "    #c1 = np.sqrt(g*p1)\n",
    "    #c2 = np.sqrt(g*p2)\n",
    "    c1=a\n",
    "    c2=a\n",
    "    alpha = 1\n",
    "    beta = 1\n",
    "    eta = 0.1 # theta=eta^2 (origin paper theta=0.01 =>  eta=0.1)\n",
    "\n",
    "    # Relative quantities\n",
    "    dx = x1 - x2\n",
    "    dv = v1 - v2\n",
    "    c_rel = (c1 + c2)/2\n",
    "    rho_rel = (rho1 + rho2)/2\n",
    "    h_pair = (h1 + h2)/2\n",
    "    theta = eta*h_pair\n",
    "    phi_rel = (h_pair*np.dot(dv, dx))/(np.linalg.norm(dx)**2 + theta**2)\n",
    "\n",
    "    # Calculate viscosity\n",
    "    visc = 0\n",
    "    if np.dot(dv, dx) < 0:\n",
    "        visc = (-alpha*c_rel*phi_rel + beta*phi_rel**2)/rho_rel\n",
    "\n",
    "    else:\n",
    "        visc = 0\n",
    "\n",
    "    return visc"
   ],
   "metadata": {
    "collapsed": false,
    "pycharm": {
     "name": "#%%\n"
    }
   }
  },
  {
   "cell_type": "markdown",
   "source": [
    "# PDE derivation"
   ],
   "metadata": {
    "collapsed": false,
    "pycharm": {
     "name": "#%% md\n"
    }
   }
  },
  {
   "cell_type": "code",
   "execution_count": 17,
   "outputs": [],
   "source": [
    "def pressure(mass, density1, density2,vel1, vel2, smoothingdW):\n",
    "    return -a*a*mass*(vel1-vel2)*smoothingdW\n",
    "\n",
    "def velocity(mass, density1, density2, pressure1, pressure2, smoothingdW, artvisc):\n",
    "    \"\"\" Calculates the derivative of density for a given pair of particles. \"\"\"\n",
    "    return -mass*(pressure1/density1**2 - pressure2/density2**2 + artvisc)*smoothingdW"
   ],
   "metadata": {
    "collapsed": false,
    "pycharm": {
     "name": "#%%\n"
    }
   }
  },
  {
   "cell_type": "markdown",
   "source": [
    "# MAIN interate"
   ],
   "metadata": {
    "collapsed": false,
    "pycharm": {
     "name": "#%% md\n"
    }
   }
  },
  {
   "cell_type": "code",
   "execution_count": 53,
   "outputs": [],
   "source": [
    "# Nearest neighbor search loop:\n",
    "def integrate(WTMP):\n",
    "    #W = W.reshape(3*N, NParams) # Reshape vector into matrix.\n",
    "    WWTMP = WTMP[np.argsort(WTMP[:,0])] # 按距离排序\n",
    "    Wleft=reservoir(WTMP[:N,:])\n",
    "    W0=WTMP[N:2*N,:]\n",
    "    Wright=valve(WTMP[N:2*N,:],WTMP[2*N:,:])\n",
    "    W=np.row_stack([Wleft,W0,Wright])\n",
    "    #print(W.shape)\n",
    "\n",
    "    # Initialize NNPS algorithm - create empty list for storing the results\n",
    "    pair_i = []\n",
    "    pair_j = []\n",
    "    smoothW = []\n",
    "    smoothdW = []\n",
    "    #print(mass/W[:,1])\n",
    "    h = h_len(mass, W[:,1]) #np.zeros(len(W)) + 0.0075 # Updated smoothing lengths for each integrated W\n",
    "\n",
    "    dx_s = []\n",
    "\n",
    "    for i in range(N - 1):\n",
    "        for j in range(i+1, N): # 只看右边粒子？\n",
    "            dx = (W[i,0] - W[j,0])\n",
    "            h_pair = (h[i] + h[j])/2 # 取光滑核长度均值\n",
    "            if np.linalg.norm(dx) <= kappa*h_pair:\n",
    "                # Store indexes\n",
    "                pair_i.append(i) # 放索引\n",
    "                pair_j.append(j)\n",
    "\n",
    "                # Calculate smoothing functions for the pair\n",
    "                smoothW.append(smoothingW(dx, h_pair)) # 计算W\n",
    "                smoothdW.append(smoothingdW(dx, h_pair)) # 计算grad W\n",
    "\n",
    "                dx_s.append(dx) # 放距离差\n",
    "\n",
    "    npairs = len(pair_i) # Define number of pairs in the given loop\n",
    "\n",
    "    # Calculate density using the summation density\n",
    "    W[:,1] = mass*(2/(3*h)) # Density self effect (for every particle) # 这个1.5有点迷\n",
    "    dW = np.zeros(np.shape(W)) # Empty array to store the derivatives # answer\n",
    "\n",
    "    for k in range(npairs):\n",
    "        pi = pair_i[k]\n",
    "        pj = pair_j[k]\n",
    "\n",
    "        W[pi,1] += mass[pj]*smoothW[k] # 更新密度\n",
    "        W[pj,1] += mass[pi]*smoothW[k]\n",
    "\n",
    "    W[:,4]  = f*W[:,2]*np.abs(W[:,2])/(2*D) # Updates pressure. Depends only on particle # 由密度和能量更新压力\n",
    "\n",
    "    # update 3 segments\n",
    "\n",
    "\n",
    "    # Compute the derivatives\n",
    "    for k in range(npairs):\n",
    "        #W[:,0] = x\n",
    "        #W[:,1] = rho\n",
    "        #W[:,2] = v\n",
    "        #W[:,3] = e\n",
    "        #W[:,4] = p\n",
    "\n",
    "        # Get index for each particle of the pair\n",
    "        pi = pair_i[k]\n",
    "        pj = pair_j[k]\n",
    "\n",
    "        # Calculate artificial viscosity for each pair\n",
    "        #artificialv(dx, rho1, rho2, v1, v2, energy1, energy2, h1, h2):\n",
    "        artvisc = artificialv(W[pi,0], W[pj,0], W[pi,1], W[pj,1],\n",
    "                              W[pi,2], W[pj,2], W[pi,3], W[pj,3], h[pi], h[pj])\n",
    "\n",
    "        # Compute (derivatives of) velocities for each particle from the pair\n",
    "        dW[pi,2] += velocity(mass[pj], W[pi,1], W[pj,1], W[pi,3], W[pj,3], smoothdW[k], artvisc)\n",
    "        dW[pj,2] -= velocity(mass[pi], W[pj,1], W[pi,1], W[pj,3], W[pi,3], smoothdW[k], artvisc)\n",
    "\n",
    "        # Derivatives of the internal energy\n",
    "        dW[pi,3] += pressure(mass[pj], W[pi,1], W[pj,1], W[pi,2], W[pj,2], smoothdW[k])\n",
    "        dW[pj,3] -= pressure(mass[pi], W[pi,1], W[pj,1],W[pj,2], W[pi,2], smoothdW[k])\n",
    "\n",
    "    # Derivatives of density and pressure are 0\n",
    "    dW[:,1] = 0 # 密度不变，梯度为0\n",
    "    dW[:,2] = dW[:,2]-W[:,4]\n",
    "    dW[:,4] = 0 # 压力仅与能量、密度有关，梯度为0\n",
    "    dW[:,0] = W[:,2] # Derivative of the position is the input velocity\n",
    "\n",
    "\n",
    "    #dW = dW.reshape(N*NParams)\n",
    "\n",
    "    return dW"
   ],
   "metadata": {
    "collapsed": false,
    "pycharm": {
     "name": "#%%\n"
    }
   }
  },
  {
   "cell_type": "markdown",
   "source": [
    "# Interation: time calculation"
   ],
   "metadata": {
    "collapsed": false,
    "pycharm": {
     "name": "#%% md\n"
    }
   }
  },
  {
   "cell_type": "code",
   "execution_count": 47,
   "outputs": [
    {
     "data": {
      "text/plain": "19"
     },
     "execution_count": 47,
     "metadata": {},
     "output_type": "execute_result"
    }
   ],
   "source": [
    "# Integration parameters\n",
    "tstep = 5e-3\n",
    "tmin = 0\n",
    "tmax = 0.1\n",
    "steps = np.arange(tstep, tmax, tstep)\n",
    "NSteps = len(steps)\n",
    "NSteps"
   ],
   "metadata": {
    "collapsed": false,
    "pycharm": {
     "name": "#%%\n"
    }
   }
  },
  {
   "cell_type": "code",
   "execution_count": 48,
   "outputs": [
    {
     "data": {
      "text/plain": "(1200, 5)"
     },
     "execution_count": 48,
     "metadata": {},
     "output_type": "execute_result"
    }
   ],
   "source": [
    "W_i = np.zeros([NSteps, 3*N, NParams])\n",
    "W_i[0]=W\n",
    "W_i[0].shape"
   ],
   "metadata": {
    "collapsed": false,
    "pycharm": {
     "name": "#%%\n"
    }
   }
  },
  {
   "cell_type": "code",
   "execution_count": 54,
   "outputs": [
    {
     "name": "stdout",
     "output_type": "stream",
     "text": [
      "1\n",
      "2\n",
      "3\n",
      "4\n",
      "5\n",
      "6\n",
      "7\n",
      "8\n",
      "9\n",
      "10\n",
      "11\n",
      "12\n",
      "13\n",
      "14\n",
      "15\n",
      "16\n",
      "17\n",
      "18\n",
      "Running time: 4.13494873046875\n"
     ]
    }
   ],
   "source": [
    "import time\n",
    "time_begin=time.time()\n",
    "# Loop for the integration\n",
    "for i in range(1,NSteps):\n",
    "    W_d=integrate(W_i[i-1])\n",
    "    W_i[i]=W_i[i-1]+tstep*W_d\n",
    "    print(i)\n",
    "\n",
    "time_end=time.time()\n",
    "print(\"Running time:\",time_end-time_begin)"
   ],
   "metadata": {
    "collapsed": false,
    "pycharm": {
     "name": "#%%\n"
    }
   }
  },
  {
   "cell_type": "markdown",
   "source": [
    "# plot"
   ],
   "metadata": {
    "collapsed": false,
    "pycharm": {
     "name": "#%% md\n"
    }
   }
  },
  {
   "cell_type": "code",
   "execution_count": 55,
   "outputs": [
    {
     "data": {
      "text/plain": "array([[8.99952011e-03, 1.00000000e+03, 9.99887089e-02, 1.00000000e+02,\n        1.25470514e-04],\n       [5.89995201e-02, 1.00000000e+03, 9.99887089e-02, 9.99999997e+01,\n        1.25470514e-04],\n       [1.08999520e-01, 1.00000000e+03, 9.99887089e-02, 9.99999994e+01,\n        1.25470514e-04],\n       ...,\n       [1.98589995e+01, 1.00000000e+03, 9.99887089e-02, 9.99998755e+01,\n        1.25470514e-04],\n       [1.99089995e+01, 1.00000000e+03, 9.99887089e-02, 9.99998752e+01,\n        1.25470514e-04],\n       [1.99589995e+01, 1.00000000e+03, 9.99887089e-02, 9.99998748e+01,\n        1.25470514e-04]])"
     },
     "execution_count": 55,
     "metadata": {},
     "output_type": "execute_result"
    }
   ],
   "source": [
    "# Define the state vector for the last integrated timestep.\n",
    "W_plot = W_i[NSteps-1]\n",
    "W_plot[N:N*2,:]"
   ],
   "metadata": {
    "collapsed": false,
    "pycharm": {
     "name": "#%%\n"
    }
   }
  },
  {
   "cell_type": "code",
   "execution_count": 44,
   "outputs": [
    {
     "data": {
      "text/plain": "Text(0, 0.5, '$Internal energy \\\\, \\\\, [J/kg]$')"
     },
     "execution_count": 44,
     "metadata": {},
     "output_type": "execute_result"
    },
    {
     "data": {
      "text/plain": "<Figure size 720x720 with 1 Axes>",
      "image/png": "[encoded data removed]"
     },
     "metadata": {
      "needs_background": "light"
     },
     "output_type": "display_data"
    }
   ],
   "source": [
    "# Plot energies\n",
    "plt.figure(figsize=[10,10])\n",
    "plt.scatter(W_plot[N:N*2,0], W_plot[N:N*2,3])\n",
    "plt.title('pressure plot')\n",
    "plt.xlabel('$Position \\, \\,[m]$')\n",
    "plt.ylabel('$Internal energy \\, \\, [J/kg]$')"
   ],
   "metadata": {
    "collapsed": false,
    "pycharm": {
     "name": "#%%\n"
    }
   }
  },
  {
   "cell_type": "code",
   "execution_count": null,
   "outputs": [],
   "source": [],
   "metadata": {
    "collapsed": false,
    "pycharm": {
     "name": "#%%\n"
    }
   }
  }
 ],
 "metadata": {
  "kernelspec": {
   "display_name": "Python 3",
   "language": "python",
   "name": "python3"
  },
  "language_info": {
   "codemirror_mode": {
    "name": "ipython",
    "version": 2
   },
   "file_extension": ".py",
   "mimetype": "text/x-python",
   "name": "python",
   "nbconvert_exporter": "python",
   "pygments_lexer": "ipython2",
   "version": "2.7.6"
  }
 },
 "nbformat": 4,
 "nbformat_minor": 0
}